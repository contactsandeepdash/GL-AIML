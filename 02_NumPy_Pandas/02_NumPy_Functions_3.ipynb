{
 "cells": [
  {
   "cell_type": "code",
   "execution_count": 5,
   "metadata": {},
   "outputs": [],
   "source": [
    "import numpy as np"
   ]
  },
  {
   "cell_type": "code",
   "execution_count": 8,
   "metadata": {},
   "outputs": [
    {
     "name": "stdout",
     "output_type": "stream",
     "text": [
      "[1, 2, 3, 4, 5, 6]\n"
     ]
    }
   ],
   "source": [
    "# arithmetic on list\n",
    "l1=[1,2,3]\n",
    "l2=[4,5,6]\n",
    "print(l1 + l2)"
   ]
  },
  {
   "cell_type": "code",
   "execution_count": 9,
   "metadata": {},
   "outputs": [
    {
     "name": "stdout",
     "output_type": "stream",
     "text": [
      "arr1 =  [1 2 3 4 5]\n",
      "arr2 =  [3 4 5 6 7]\n"
     ]
    }
   ],
   "source": [
    "# we can +-*/ arrays together\n",
    "\n",
    "arr1 = np.arange(1,6)\n",
    "print('arr1 = ', arr1)\n",
    "\n",
    "arr2 = np.arange(3,8)\n",
    "print('arr2 = ', arr2)"
   ]
  },
  {
   "cell_type": "code",
   "execution_count": 10,
   "metadata": {},
   "outputs": [
    {
     "name": "stdout",
     "output_type": "stream",
     "text": [
      "addition =  [ 4  6  8 10 12]\n",
      "subtraction =  [-2 -2 -2 -2 -2]\n",
      "multiplication =  [ 3  8 15 24 35]\n",
      "division =  [0.33333333 0.5        0.6        0.66666667 0.71428571]\n",
      "inverse =  [1.         0.5        0.33333333 0.25       0.2       ]\n",
      "powers =  [    1    16   243  4096 78125]\n"
     ]
    }
   ],
   "source": [
    "print('addition = ', arr1 + arr2)\n",
    "print('subtraction = ', arr1 - arr2)\n",
    "print('multiplication = ', arr1 * arr2)\n",
    "print('division = ', arr1 / arr2)\n",
    "print('inverse = ', 1/arr1)\n",
    "print('powers = ', arr1 ** arr2)"
   ]
  },
  {
   "cell_type": "code",
   "execution_count": 11,
   "metadata": {},
   "outputs": [
    {
     "name": "stdout",
     "output_type": "stream",
     "text": [
      "[[1 2 3]\n",
      " [4 5 6]\n",
      " [7 8 9]]\n",
      "[[1. 0. 0.]\n",
      " [0. 1. 0.]\n",
      " [0. 0. 1.]]\n"
     ]
    }
   ],
   "source": [
    "# operations on matrices\n",
    "\n",
    "arr3 = np.arange(1,10).reshape(3,3)\n",
    "print(arr3)\n",
    "\n",
    "arr4 = np.eye(3)\n",
    "print(arr4)"
   ]
  },
  {
   "cell_type": "code",
   "execution_count": 14,
   "metadata": {},
   "outputs": [
    {
     "name": "stdout",
     "output_type": "stream",
     "text": [
      "addition = \n",
      " [[ 2.  2.  3.]\n",
      " [ 4.  6.  6.]\n",
      " [ 7.  8. 10.]]\n",
      "subtraction = \n",
      " [[0. 2. 3.]\n",
      " [4. 4. 6.]\n",
      " [7. 8. 8.]]\n",
      "multiplication = \n",
      " [[1. 0. 0.]\n",
      " [0. 5. 0.]\n",
      " [0. 0. 9.]]\n",
      "division = \n",
      " [[ 1. inf inf]\n",
      " [inf  5. inf]\n",
      " [inf inf  9.]]\n"
     ]
    },
    {
     "name": "stderr",
     "output_type": "stream",
     "text": [
      "/var/folders/d8/grpm6rlx467dk8kfz2zlcfcc0000gn/T/ipykernel_32825/4106955805.py:4: RuntimeWarning: divide by zero encountered in divide\n",
      "  print('division = \\n', arr3 / arr4)\n"
     ]
    }
   ],
   "source": [
    "print('addition = \\n', arr3 + arr4)\n",
    "print('subtraction = \\n', arr3 - arr4)\n",
    "print('multiplication = \\n', arr3 * arr4)\n",
    "print('division = \\n', arr3 / arr4)\n"
   ]
  },
  {
   "cell_type": "code",
   "execution_count": 15,
   "metadata": {},
   "outputs": [
    {
     "name": "stdout",
     "output_type": "stream",
     "text": [
      "first matrix = \n",
      " [[1 2 3]\n",
      " [4 5 6]\n",
      " [7 8 9]]\n",
      "second matrix = \n",
      " [[11 12 13]\n",
      " [14 15 16]\n",
      " [17 18 19]]\n",
      "Multiplication = \n",
      " [[ 90  96 102]\n",
      " [216 231 246]\n",
      " [342 366 390]]\n"
     ]
    }
   ],
   "source": [
    "# Linear algebra matrix multiplication\n",
    "\n",
    "matrix9 = np.arange(1,10).reshape(3,3)\n",
    "print('first matrix = \\n', matrix9)\n",
    "\n",
    "matrix10 = np.arange(11,20).reshape(3,3)\n",
    "print('second matrix = \\n', matrix10)\n",
    "\n",
    "# dot product\n",
    "print('Multiplication = \\n', matrix9 @ matrix10)"
   ]
  },
  {
   "cell_type": "code",
   "execution_count": 20,
   "metadata": {},
   "outputs": [
    {
     "name": "stdout",
     "output_type": "stream",
     "text": [
      "[[1 2 3]\n",
      " [4 5 6]\n",
      " [7 8 9]]\n"
     ]
    },
    {
     "data": {
      "text/plain": [
       "array([[1, 4, 7],\n",
       "       [2, 5, 8],\n",
       "       [3, 6, 9]])"
      ]
     },
     "execution_count": 20,
     "metadata": {},
     "output_type": "execute_result"
    }
   ],
   "source": [
    "# transpose a matrix\n",
    "\n",
    "print(matrix9)\n",
    "np.transpose(matrix9)"
   ]
  },
  {
   "cell_type": "code",
   "execution_count": 21,
   "metadata": {},
   "outputs": [
    {
     "data": {
      "text/plain": [
       "array([[1, 4, 7],\n",
       "       [2, 5, 8],\n",
       "       [3, 6, 9]])"
      ]
     },
     "execution_count": 21,
     "metadata": {},
     "output_type": "execute_result"
    }
   ],
   "source": [
    "# another way of making transpose\n",
    "matrix9.T"
   ]
  },
  {
   "cell_type": "code",
   "execution_count": 22,
   "metadata": {},
   "outputs": [
    {
     "name": "stdout",
     "output_type": "stream",
     "text": [
      "[[1 2 3]\n",
      " [4 5 6]\n",
      " [7 8 9]]\n",
      "min value =  1\n",
      "max value =  9\n"
     ]
    }
   ],
   "source": [
    "# max and min in a matrix\n",
    "\n",
    "print(matrix9)\n",
    "print('min value = ', np.min(matrix9))\n",
    "print('max value = ', np.max(matrix9))"
   ]
  },
  {
   "cell_type": "code",
   "execution_count": 24,
   "metadata": {},
   "outputs": [
    {
     "data": {
      "text/plain": [
       "array([0.53417317, 0.88255761, 0.45138466, 0.41817082, 0.30737541])"
      ]
     },
     "execution_count": 24,
     "metadata": {},
     "output_type": "execute_result"
    }
   ],
   "source": [
    "# generate random sample (including 0 but, excluding 1)\n",
    "np.random.rand(5)"
   ]
  },
  {
   "cell_type": "code",
   "execution_count": 27,
   "metadata": {},
   "outputs": [
    {
     "name": "stdout",
     "output_type": "stream",
     "text": [
      "[[0.9542369  0.46301251 0.2799839  0.76413805 0.08710705]\n",
      " [0.74730584 0.42485762 0.23756009 0.71669952 0.84803924]\n",
      " [0.69131475 0.41343147 0.8333778  0.0067329  0.31528076]\n",
      " [0.45763255 0.91368569 0.82107483 0.53077826 0.92440234]\n",
      " [0.639859   0.74077775 0.25002335 0.34000008 0.45864107]]\n"
     ]
    }
   ],
   "source": [
    "print(np.random.rand(5,5))"
   ]
  },
  {
   "cell_type": "code",
   "execution_count": 28,
   "metadata": {},
   "outputs": [
    {
     "name": "stdout",
     "output_type": "stream",
     "text": [
      "[[ 0.47080009 -0.82563502 -0.07415588  1.15833972  0.77433838]\n",
      " [ 0.07654844  0.79379957 -1.23395936 -0.48457873 -0.5939    ]\n",
      " [ 0.12198305  0.63728637 -0.19205036 -2.77956039 -0.77801856]\n",
      " [-1.09236222 -0.39328865  1.61905235  0.52451241 -0.87554727]\n",
      " [-0.9137273  -0.7112049  -1.74230944 -0.8888108  -0.45296594]]\n"
     ]
    }
   ],
   "source": [
    "# randn function (standard normal distribution - mean as 0 and standard deviation as 1)\n",
    "print(np.random.randn(5,5))"
   ]
  },
  {
   "cell_type": "code",
   "execution_count": 29,
   "metadata": {},
   "outputs": [
    {
     "name": "stdout",
     "output_type": "stream",
     "text": [
      "Mean :  0.4357951196802457\n",
      "Standard Deviation :  0.28486519779903946\n"
     ]
    }
   ],
   "source": [
    "print('Mean : ', np.mean(np.random.rand(5,5)))\n",
    "print('Standard Deviation : ', np.std(np.random.rand(5,5)))"
   ]
  },
  {
   "cell_type": "code",
   "execution_count": null,
   "metadata": {},
   "outputs": [],
   "source": []
  }
 ],
 "metadata": {
  "kernelspec": {
   "display_name": "base",
   "language": "python",
   "name": "python3"
  },
  "language_info": {
   "codemirror_mode": {
    "name": "ipython",
    "version": 3
   },
   "file_extension": ".py",
   "mimetype": "text/x-python",
   "name": "python",
   "nbconvert_exporter": "python",
   "pygments_lexer": "ipython3",
   "version": "3.12.0"
  }
 },
 "nbformat": 4,
 "nbformat_minor": 2
}
