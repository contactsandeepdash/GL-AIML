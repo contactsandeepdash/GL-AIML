{
 "cells": [
  {
   "cell_type": "code",
   "execution_count": 1,
   "metadata": {},
   "outputs": [],
   "source": [
    "import pandas as pd"
   ]
  },
  {
   "cell_type": "code",
   "execution_count": 2,
   "metadata": {},
   "outputs": [],
   "source": [
    "path_csv = './dataset/StockData.csv'\n",
    "data_csv = pd.read_csv(path_csv)"
   ]
  },
  {
   "cell_type": "code",
   "execution_count": 3,
   "metadata": {},
   "outputs": [
    {
     "data": {
      "text/plain": [
       "73.05702966640192"
      ]
     },
     "execution_count": 3,
     "metadata": {},
     "output_type": "execute_result"
    }
   ],
   "source": [
    "data_csv['price'].mean()"
   ]
  },
  {
   "cell_type": "code",
   "execution_count": 4,
   "metadata": {},
   "outputs": [
    {
     "data": {
      "text/plain": [
       "69.08500000000001"
      ]
     },
     "execution_count": 4,
     "metadata": {},
     "output_type": "execute_result"
    }
   ],
   "source": [
    "data_csv['price'].median()"
   ]
  },
  {
   "cell_type": "code",
   "execution_count": 5,
   "metadata": {},
   "outputs": [
    {
     "data": {
      "text/plain": [
       "0    74.59\n",
       "Name: price, dtype: float64"
      ]
     },
     "execution_count": 5,
     "metadata": {},
     "output_type": "execute_result"
    }
   ],
   "source": [
    "data_csv['price'].mode()"
   ]
  },
  {
   "cell_type": "code",
   "execution_count": 6,
   "metadata": {},
   "outputs": [
    {
     "data": {
      "text/plain": [
       "74.59"
      ]
     },
     "execution_count": 6,
     "metadata": {},
     "output_type": "execute_result"
    }
   ],
   "source": [
    "#to access the first mode \n",
    "data_csv['price'].mode()[0]"
   ]
  },
  {
   "cell_type": "code",
   "execution_count": 9,
   "metadata": {},
   "outputs": [
    {
     "data": {
      "text/plain": [
       "stock\n",
       "AAPL    109.066698\n",
       "SNI      71.319206\n",
       "TJX      66.743566\n",
       "ZTS      45.098648\n",
       "Name: price, dtype: float64"
      ]
     },
     "execution_count": 9,
     "metadata": {},
     "output_type": "execute_result"
    }
   ],
   "source": [
    "data_csv.groupby(['stock'])['price'].mean()"
   ]
  },
  {
   "cell_type": "code",
   "execution_count": 10,
   "metadata": {},
   "outputs": [
    {
     "data": {
      "text/plain": [
       "stock\n",
       "AAPL    109.01\n",
       "SNI      72.31\n",
       "TJX      68.85\n",
       "ZTS      45.62\n",
       "Name: price, dtype: float64"
      ]
     },
     "execution_count": 10,
     "metadata": {},
     "output_type": "execute_result"
    }
   ],
   "source": [
    "# similarly we can get the median price of each stock\n",
    "data_csv.groupby(['stock'])['price'].median()"
   ]
  },
  {
   "cell_type": "code",
   "execution_count": 11,
   "metadata": {},
   "outputs": [],
   "source": [
    "# function to increase the price of the stock by 10%\n",
    "def profit(s):\n",
    "    return s + s*0.10 # increase of 10%"
   ]
  },
  {
   "cell_type": "code",
   "execution_count": 12,
   "metadata": {},
   "outputs": [
    {
     "data": {
      "text/plain": [
       "0       74.63962\n",
       "1       75.41754\n",
       "2       73.52708\n",
       "3       73.38716\n",
       "4       73.32116\n",
       "          ...   \n",
       "5031    85.60200\n",
       "5032    84.45800\n",
       "5033    81.21300\n",
       "5034    80.59700\n",
       "5035    81.24600\n",
       "Name: price, Length: 5036, dtype: float64"
      ]
     },
     "execution_count": 12,
     "metadata": {},
     "output_type": "execute_result"
    }
   ],
   "source": [
    "data_csv['price'].apply(profit)"
   ]
  },
  {
   "cell_type": "code",
   "execution_count": 13,
   "metadata": {},
   "outputs": [
    {
     "data": {
      "text/html": [
       "<div>\n",
       "<style scoped>\n",
       "    .dataframe tbody tr th:only-of-type {\n",
       "        vertical-align: middle;\n",
       "    }\n",
       "\n",
       "    .dataframe tbody tr th {\n",
       "        vertical-align: top;\n",
       "    }\n",
       "\n",
       "    .dataframe thead th {\n",
       "        text-align: right;\n",
       "    }\n",
       "</style>\n",
       "<table border=\"1\" class=\"dataframe\">\n",
       "  <thead>\n",
       "    <tr style=\"text-align: right;\">\n",
       "      <th></th>\n",
       "      <th>stock</th>\n",
       "      <th>date</th>\n",
       "      <th>price</th>\n",
       "      <th>new_price</th>\n",
       "    </tr>\n",
       "  </thead>\n",
       "  <tbody>\n",
       "    <tr>\n",
       "      <th>0</th>\n",
       "      <td>AAPL</td>\n",
       "      <td>08-02-2013</td>\n",
       "      <td>67.8542</td>\n",
       "      <td>74.63962</td>\n",
       "    </tr>\n",
       "    <tr>\n",
       "      <th>1</th>\n",
       "      <td>AAPL</td>\n",
       "      <td>11-02-2013</td>\n",
       "      <td>68.5614</td>\n",
       "      <td>75.41754</td>\n",
       "    </tr>\n",
       "    <tr>\n",
       "      <th>2</th>\n",
       "      <td>AAPL</td>\n",
       "      <td>12-02-2013</td>\n",
       "      <td>66.8428</td>\n",
       "      <td>73.52708</td>\n",
       "    </tr>\n",
       "    <tr>\n",
       "      <th>3</th>\n",
       "      <td>AAPL</td>\n",
       "      <td>13-02-2013</td>\n",
       "      <td>66.7156</td>\n",
       "      <td>73.38716</td>\n",
       "    </tr>\n",
       "    <tr>\n",
       "      <th>4</th>\n",
       "      <td>AAPL</td>\n",
       "      <td>14-02-2013</td>\n",
       "      <td>66.6556</td>\n",
       "      <td>73.32116</td>\n",
       "    </tr>\n",
       "  </tbody>\n",
       "</table>\n",
       "</div>"
      ],
      "text/plain": [
       "  stock        date    price  new_price\n",
       "0  AAPL  08-02-2013  67.8542   74.63962\n",
       "1  AAPL  11-02-2013  68.5614   75.41754\n",
       "2  AAPL  12-02-2013  66.8428   73.52708\n",
       "3  AAPL  13-02-2013  66.7156   73.38716\n",
       "4  AAPL  14-02-2013  66.6556   73.32116"
      ]
     },
     "execution_count": 13,
     "metadata": {},
     "output_type": "execute_result"
    }
   ],
   "source": [
    "data_csv['new_price'] = data_csv['price'].apply(profit)\n",
    "data_csv.head()"
   ]
  },
  {
   "cell_type": "code",
   "execution_count": 15,
   "metadata": {},
   "outputs": [
    {
     "data": {
      "text/html": [
       "<div>\n",
       "<style scoped>\n",
       "    .dataframe tbody tr th:only-of-type {\n",
       "        vertical-align: middle;\n",
       "    }\n",
       "\n",
       "    .dataframe tbody tr th {\n",
       "        vertical-align: top;\n",
       "    }\n",
       "\n",
       "    .dataframe thead th {\n",
       "        text-align: right;\n",
       "    }\n",
       "</style>\n",
       "<table border=\"1\" class=\"dataframe\">\n",
       "  <thead>\n",
       "    <tr style=\"text-align: right;\">\n",
       "      <th></th>\n",
       "      <th>stock</th>\n",
       "      <th>date</th>\n",
       "      <th>price</th>\n",
       "      <th>new_price</th>\n",
       "    </tr>\n",
       "  </thead>\n",
       "  <tbody>\n",
       "    <tr>\n",
       "      <th>1244</th>\n",
       "      <td>AAPL</td>\n",
       "      <td>18-01-2018</td>\n",
       "      <td>179.26</td>\n",
       "      <td>197.186</td>\n",
       "    </tr>\n",
       "    <tr>\n",
       "      <th>1243</th>\n",
       "      <td>AAPL</td>\n",
       "      <td>17-01-2018</td>\n",
       "      <td>179.10</td>\n",
       "      <td>197.010</td>\n",
       "    </tr>\n",
       "    <tr>\n",
       "      <th>1245</th>\n",
       "      <td>AAPL</td>\n",
       "      <td>19-01-2018</td>\n",
       "      <td>178.46</td>\n",
       "      <td>196.306</td>\n",
       "    </tr>\n",
       "    <tr>\n",
       "      <th>1241</th>\n",
       "      <td>AAPL</td>\n",
       "      <td>12-01-2018</td>\n",
       "      <td>177.09</td>\n",
       "      <td>194.799</td>\n",
       "    </tr>\n",
       "    <tr>\n",
       "      <th>1247</th>\n",
       "      <td>AAPL</td>\n",
       "      <td>23-01-2018</td>\n",
       "      <td>177.04</td>\n",
       "      <td>194.744</td>\n",
       "    </tr>\n",
       "    <tr>\n",
       "      <th>...</th>\n",
       "      <td>...</td>\n",
       "      <td>...</td>\n",
       "      <td>...</td>\n",
       "      <td>...</td>\n",
       "    </tr>\n",
       "    <tr>\n",
       "      <th>4076</th>\n",
       "      <td>ZTS</td>\n",
       "      <td>17-04-2014</td>\n",
       "      <td>28.60</td>\n",
       "      <td>31.460</td>\n",
       "    </tr>\n",
       "    <tr>\n",
       "      <th>4074</th>\n",
       "      <td>ZTS</td>\n",
       "      <td>15-04-2014</td>\n",
       "      <td>28.55</td>\n",
       "      <td>31.405</td>\n",
       "    </tr>\n",
       "    <tr>\n",
       "      <th>4075</th>\n",
       "      <td>ZTS</td>\n",
       "      <td>16-04-2014</td>\n",
       "      <td>28.53</td>\n",
       "      <td>31.383</td>\n",
       "    </tr>\n",
       "    <tr>\n",
       "      <th>4073</th>\n",
       "      <td>ZTS</td>\n",
       "      <td>14-04-2014</td>\n",
       "      <td>28.48</td>\n",
       "      <td>31.328</td>\n",
       "    </tr>\n",
       "    <tr>\n",
       "      <th>4072</th>\n",
       "      <td>ZTS</td>\n",
       "      <td>11-04-2014</td>\n",
       "      <td>28.40</td>\n",
       "      <td>31.240</td>\n",
       "    </tr>\n",
       "  </tbody>\n",
       "</table>\n",
       "<p>5036 rows × 4 columns</p>\n",
       "</div>"
      ],
      "text/plain": [
       "     stock        date   price  new_price\n",
       "1244  AAPL  18-01-2018  179.26    197.186\n",
       "1243  AAPL  17-01-2018  179.10    197.010\n",
       "1245  AAPL  19-01-2018  178.46    196.306\n",
       "1241  AAPL  12-01-2018  177.09    194.799\n",
       "1247  AAPL  23-01-2018  177.04    194.744\n",
       "...    ...         ...     ...        ...\n",
       "4076   ZTS  17-04-2014   28.60     31.460\n",
       "4074   ZTS  15-04-2014   28.55     31.405\n",
       "4075   ZTS  16-04-2014   28.53     31.383\n",
       "4073   ZTS  14-04-2014   28.48     31.328\n",
       "4072   ZTS  11-04-2014   28.40     31.240\n",
       "\n",
       "[5036 rows x 4 columns]"
      ]
     },
     "execution_count": 15,
     "metadata": {},
     "output_type": "execute_result"
    }
   ],
   "source": [
    "data_csv.sort_values(by='new_price',ascending=False) # by default ascending is set to True"
   ]
  },
  {
   "cell_type": "code",
   "execution_count": null,
   "metadata": {},
   "outputs": [],
   "source": []
  }
 ],
 "metadata": {
  "kernelspec": {
   "display_name": "sandeep_personal",
   "language": "python",
   "name": "python3"
  },
  "language_info": {
   "codemirror_mode": {
    "name": "ipython",
    "version": 3
   },
   "file_extension": ".py",
   "mimetype": "text/x-python",
   "name": "python",
   "nbconvert_exporter": "python",
   "pygments_lexer": "ipython3",
   "version": "3.12.0"
  }
 },
 "nbformat": 4,
 "nbformat_minor": 2
}
