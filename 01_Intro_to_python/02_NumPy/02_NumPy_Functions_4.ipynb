{
 "cells": [
  {
   "cell_type": "code",
   "execution_count": 1,
   "metadata": {},
   "outputs": [],
   "source": [
    "import numpy as np"
   ]
  },
  {
   "cell_type": "code",
   "execution_count": 9,
   "metadata": {},
   "outputs": [
    {
     "name": "stdout",
     "output_type": "stream",
     "text": [
      "[-0.78729536 -0.0957528  -0.82843886 -0.10980505  1.1442325   1.18988507\n",
      "  1.24310005 -1.19107079  0.76388133  0.01209937]\n",
      "1.2431000466635231\n",
      "[ 1.1442325   1.18988507  1.24310005 -1.19107079  0.76388133]\n",
      "index of values to access :  [3 6 9]\n",
      "[-0.10980505  1.24310005  0.01209937]\n"
     ]
    }
   ],
   "source": [
    "rand_arr1 = np.random.randn(10)\n",
    "print(rand_arr1)\n",
    "\n",
    "# accessing the 6th element from the array\n",
    "print(rand_arr1[6])\n",
    "\n",
    "# accessing multiple entries from the array\n",
    "print(rand_arr1[4:9])\n",
    "\n",
    "print('index of values to access : ', np.arange(3,10,3))\n",
    "print(rand_arr1[np.arange(3,10,3)])"
   ]
  },
  {
   "cell_type": "code",
   "execution_count": 10,
   "metadata": {},
   "outputs": [
    {
     "name": "stdout",
     "output_type": "stream",
     "text": [
      "[-0.78729536 -0.0957528  -0.82843886 -0.10980505  1.1442325   1.18988507\n",
      "  1.24310005 -1.19107079  0.76388133  0.01209937]\n"
     ]
    }
   ],
   "source": [
    "print(rand_arr1)"
   ]
  },
  {
   "cell_type": "code",
   "execution_count": 23,
   "metadata": {},
   "outputs": [
    {
     "data": {
      "text/plain": [
       "array([False, False, False, False,  True,  True,  True, False,  True,\n",
       "        True])"
      ]
     },
     "execution_count": 23,
     "metadata": {},
     "output_type": "execute_result"
    }
   ],
   "source": [
    "rand_arr1 > 0"
   ]
  },
  {
   "cell_type": "code",
   "execution_count": 22,
   "metadata": {},
   "outputs": [
    {
     "name": "stdout",
     "output_type": "stream",
     "text": [
      "values lesser than 0 :  [-0.78729536 -0.0957528  -0.82843886 -0.10980505 -1.19107079]\n",
      "values greater than 0 :  [1.1442325  1.18988507 1.24310005 0.76388133 0.01209937]\n"
     ]
    }
   ],
   "source": [
    "# accessing arrays using logical operators\n",
    "\n",
    "print('values lesser than 0 : ', rand_arr1[rand_arr1 < 0])\n",
    "print('values greater than 0 : ', rand_arr1[rand_arr1 > 0])"
   ]
  },
  {
   "cell_type": "code",
   "execution_count": 18,
   "metadata": {},
   "outputs": [
    {
     "name": "stdout",
     "output_type": "stream",
     "text": [
      "[[-0.10942346  0.80179678 -0.23724526 -2.86368683  0.8685284 ]\n",
      " [-0.21864473 -0.35747761  0.56125222 -1.01467643 -0.20586858]\n",
      " [ 1.3695902  -1.57881518  1.08100221  0.1233306   0.64519728]\n",
      " [-0.90990531  0.37260292  0.23733193 -0.05081694 -0.31672821]\n",
      " [-0.78901794  0.27984531  1.06146086 -1.3496279   0.35408027]]\n"
     ]
    }
   ],
   "source": [
    "# accessing the entries of a matrix\n",
    "rand_mat1 = np.random.randn(5,5)\n",
    "print(rand_mat1)\n"
   ]
  },
  {
   "cell_type": "code",
   "execution_count": 19,
   "metadata": {},
   "outputs": [
    {
     "data": {
      "text/plain": [
       "array([-0.21864473, -0.35747761,  0.56125222, -1.01467643, -0.20586858])"
      ]
     },
     "execution_count": 19,
     "metadata": {},
     "output_type": "execute_result"
    }
   ],
   "source": [
    "rand_mat1[1]"
   ]
  },
  {
   "cell_type": "code",
   "execution_count": 20,
   "metadata": {},
   "outputs": [
    {
     "name": "stdout",
     "output_type": "stream",
     "text": [
      "0.5612522197796288\n"
     ]
    }
   ],
   "source": [
    "# accessing 3rd element in 2nd row\n",
    "\n",
    "print(rand_mat1[1, 2])"
   ]
  },
  {
   "cell_type": "code",
   "execution_count": 24,
   "metadata": {},
   "outputs": [
    {
     "name": "stdout",
     "output_type": "stream",
     "text": [
      "0.5612522197796288\n"
     ]
    }
   ],
   "source": [
    "# accessing 3rd element in 2nd row\n",
    "\n",
    "print(rand_mat1[1][2])"
   ]
  },
  {
   "cell_type": "code",
   "execution_count": 26,
   "metadata": {},
   "outputs": [
    {
     "name": "stdout",
     "output_type": "stream",
     "text": [
      "[[ 0.80179678 -0.23724526]\n",
      " [-0.35747761  0.56125222]]\n"
     ]
    }
   ],
   "source": [
    "# accessing 1st row -> 2nd column and 2nd row -> 3rd column\n",
    "\n",
    "print(rand_mat1[0:2, 1:3])"
   ]
  },
  {
   "cell_type": "code",
   "execution_count": 27,
   "metadata": {},
   "outputs": [
    {
     "name": "stdout",
     "output_type": "stream",
     "text": [
      "[[-0.10942346  0.80179678 -0.23724526 -2.86368683  0.8685284 ]\n",
      " [-0.21864473 -0.35747761  0.56125222 -1.01467643 -0.20586858]\n",
      " [ 1.3695902  -1.57881518  1.08100221  0.1233306   0.64519728]\n",
      " [-0.90990531  0.37260292  0.23733193 -0.05081694 -0.31672821]\n",
      " [-0.78901794  0.27984531  1.06146086 -1.3496279   0.35408027]]\n"
     ]
    }
   ],
   "source": [
    "# accessing matrices using logical operations\n",
    "\n",
    "print(rand_mat1)"
   ]
  },
  {
   "cell_type": "code",
   "execution_count": 28,
   "metadata": {},
   "outputs": [
    {
     "data": {
      "text/plain": [
       "array([[False,  True, False, False,  True],\n",
       "       [False, False,  True, False, False],\n",
       "       [ True, False,  True,  True,  True],\n",
       "       [False,  True,  True, False, False],\n",
       "       [False,  True,  True, False,  True]])"
      ]
     },
     "execution_count": 28,
     "metadata": {},
     "output_type": "execute_result"
    }
   ],
   "source": [
    "rand_mat1 > 0"
   ]
  },
  {
   "cell_type": "code",
   "execution_count": 30,
   "metadata": {},
   "outputs": [
    {
     "name": "stdout",
     "output_type": "stream",
     "text": [
      "values lesser than 0 : \n",
      " [-0.10942346 -0.23724526 -2.86368683 -0.21864473 -0.35747761 -1.01467643\n",
      " -0.20586858 -1.57881518 -0.90990531 -0.05081694 -0.31672821 -0.78901794\n",
      " -1.3496279 ]\n",
      "values greater than 0 : \n",
      " [0.80179678 0.8685284  0.56125222 1.3695902  1.08100221 0.1233306\n",
      " 0.64519728 0.37260292 0.23733193 0.27984531 1.06146086 0.35408027]\n"
     ]
    }
   ],
   "source": [
    "\n",
    "print('values lesser than 0 : \\n', rand_mat1[rand_mat1 < 0])\n",
    "print('values greater than 0 : \\n', rand_mat1[rand_mat1 > 0])"
   ]
  },
  {
   "cell_type": "code",
   "execution_count": 31,
   "metadata": {},
   "outputs": [
    {
     "name": "stdout",
     "output_type": "stream",
     "text": [
      "[-0.78729536 -0.0957528  -0.82843886 -0.10980505  1.1442325   1.18988507\n",
      "  1.24310005 -1.19107079  0.76388133  0.01209937]\n"
     ]
    }
   ],
   "source": [
    "# modifying the entries of an array\n",
    "\n",
    "print(rand_arr1)"
   ]
  },
  {
   "cell_type": "code",
   "execution_count": 33,
   "metadata": {},
   "outputs": [
    {
     "name": "stdout",
     "output_type": "stream",
     "text": [
      "[-0.78729536 -0.0957528  -0.82843886  5.          5.          1.18988507\n",
      "  1.24310005 -1.19107079  0.76388133  0.01209937]\n"
     ]
    }
   ],
   "source": [
    "# let's change some values in an array\n",
    "# changing the values of index value of 3 to 5 and index value 4 to 5\n",
    "\n",
    "rand_arr1[3:5] = 5\n",
    "print(rand_arr1)"
   ]
  },
  {
   "cell_type": "code",
   "execution_count": 34,
   "metadata": {},
   "outputs": [
    {
     "name": "stdout",
     "output_type": "stream",
     "text": [
      "[ 2.          3.         -0.82843886  5.          5.          1.18988507\n",
      "  1.24310005 -1.19107079  0.76388133  0.01209937]\n"
     ]
    }
   ],
   "source": [
    "# changing the values of index value of 0 and 1 to 2 and 3 respectively\n",
    "\n",
    "rand_arr1[0:2] = [2,3]\n",
    "print(rand_arr1)"
   ]
  },
  {
   "cell_type": "code",
   "execution_count": 35,
   "metadata": {},
   "outputs": [],
   "source": [
    "# modify using logical reference\n",
    "\n",
    "rand_arr1[rand_arr1 > 0] = 65"
   ]
  },
  {
   "cell_type": "code",
   "execution_count": 36,
   "metadata": {},
   "outputs": [
    {
     "name": "stdout",
     "output_type": "stream",
     "text": [
      "[65.         65.         -0.82843886 65.         65.         65.\n",
      " 65.         -1.19107079 65.         65.        ]\n"
     ]
    }
   ],
   "source": [
    "print(rand_arr1)"
   ]
  },
  {
   "cell_type": "code",
   "execution_count": null,
   "metadata": {},
   "outputs": [],
   "source": []
  }
 ],
 "metadata": {
  "kernelspec": {
   "display_name": "base",
   "language": "python",
   "name": "python3"
  },
  "language_info": {
   "codemirror_mode": {
    "name": "ipython",
    "version": 3
   },
   "file_extension": ".py",
   "mimetype": "text/x-python",
   "name": "python",
   "nbconvert_exporter": "python",
   "pygments_lexer": "ipython3",
   "version": "3.12.0"
  }
 },
 "nbformat": 4,
 "nbformat_minor": 2
}
