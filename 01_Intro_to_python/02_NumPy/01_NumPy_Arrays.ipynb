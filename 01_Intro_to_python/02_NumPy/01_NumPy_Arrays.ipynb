{
 "cells": [
  {
   "cell_type": "code",
   "execution_count": 1,
   "metadata": {},
   "outputs": [],
   "source": [
    "import numpy as np"
   ]
  },
  {
   "cell_type": "code",
   "execution_count": 2,
   "metadata": {},
   "outputs": [
    {
     "name": "stdout",
     "output_type": "stream",
     "text": [
      "arr_str =  ['Mercedes', 'BMW', 'Audi', 'Ferrari', 'Tesla']\n",
      "np_arr_str =  ['Mercedes' 'BMW' 'Audi' 'Ferrari' 'Tesla']\n"
     ]
    }
   ],
   "source": [
    "arr_str = ['Mercedes', 'BMW', 'Audi', 'Ferrari', 'Tesla']\n",
    "\n",
    "# convert the list to NumPy array\n",
    "np_arr_str = np.array(arr_str)\n",
    "print(\"arr_str = \", arr_str)\n",
    "print(\"np_arr_str = \", np_arr_str)"
   ]
  },
  {
   "cell_type": "code",
   "execution_count": 3,
   "metadata": {},
   "outputs": [
    {
     "name": "stdout",
     "output_type": "stream",
     "text": [
      "arr_num =  [5, 4, 7, 6, 3]\n",
      "np_arr_num =  [5 4 7 6 3]\n"
     ]
    }
   ],
   "source": [
    "arr_num = [5, 4, 7, 6, 3]\n",
    "\n",
    "# convert the list to NumPy array\n",
    "np_arr_num = np.array(arr_num)\n",
    "print(\"arr_num = \", arr_num)\n",
    "print(\"np_arr_num = \", np_arr_num)"
   ]
  },
  {
   "cell_type": "code",
   "execution_count": 4,
   "metadata": {},
   "outputs": [
    {
     "name": "stdout",
     "output_type": "stream",
     "text": [
      "data type of arr_str =  <class 'list'>\n",
      "data type of arr_num =  <class 'list'>\n",
      "data type of np_arr_str =  <class 'numpy.ndarray'>\n",
      "data type of np_arr_num =  <class 'numpy.ndarray'>\n"
     ]
    }
   ],
   "source": [
    "# data type of list\n",
    "print(\"data type of arr_str = \", type(arr_str))\n",
    "print(\"data type of arr_num = \", type(arr_num))\n",
    "\n",
    " # data type (after conversion) list to array\n",
    "print(\"data type of np_arr_str = \", type(np_arr_str))\n",
    "print(\"data type of np_arr_num = \", type(np_arr_num))"
   ]
  },
  {
   "cell_type": "code",
   "execution_count": 5,
   "metadata": {},
   "outputs": [
    {
     "name": "stdout",
     "output_type": "stream",
     "text": [
      "[[1 2 1]\n",
      " [4 5 9]\n",
      " [1 8 9]]\n",
      "data type of matrix =  <class 'numpy.ndarray'>\n"
     ]
    }
   ],
   "source": [
    "matrix = np.array([[1,2,1],[4,5,9],[1,8,9]])\n",
    "print(matrix)\n",
    "print(\"data type of matrix = \", type(matrix))"
   ]
  },
  {
   "cell_type": "code",
   "execution_count": null,
   "metadata": {},
   "outputs": [],
   "source": []
  }
 ],
 "metadata": {
  "kernelspec": {
   "display_name": "sandeep_personal",
   "language": "python",
   "name": "python3"
  },
  "language_info": {
   "codemirror_mode": {
    "name": "ipython",
    "version": 3
   },
   "file_extension": ".py",
   "mimetype": "text/x-python",
   "name": "python",
   "nbconvert_exporter": "python",
   "pygments_lexer": "ipython3",
   "version": "3.11.7"
  }
 },
 "nbformat": 4,
 "nbformat_minor": 2
}
