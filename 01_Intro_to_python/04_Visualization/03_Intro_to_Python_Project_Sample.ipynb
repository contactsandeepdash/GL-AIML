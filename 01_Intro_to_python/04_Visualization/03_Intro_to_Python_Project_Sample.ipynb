{
 "cells": [
  {
   "cell_type": "markdown",
   "metadata": {},
   "source": [
    "       ©Great Learning. Proprietary content. All Rights Reserved. Unauthorised use or distribution prohibited"
   ]
  },
  {
   "cell_type": "markdown",
   "metadata": {},
   "source": [
    "## AIML Module Project - Introduction to Python \n",
    "\n",
    "- Learner Copy"
   ]
  },
  {
   "cell_type": "markdown",
   "metadata": {},
   "source": [
    "### --> Assessment [ Total Score: 60 points ]\n",
    "\n",
    "Please refer to the problem statement for questions and descriptions"
   ]
  },
  {
   "cell_type": "markdown",
   "metadata": {},
   "source": [
    "### Part I: [ DP: 35 Points ]\n",
    "\n",
    "#### Part I consists of the following steps:\n",
    "- Create a pandas data frame consisting of 4 columns and 20 rows. \n",
    "- Column 1 should have values between 0 to 25. \n",
    "- Column 2 should have values between -10 to 10. \n",
    "- Column 3 should have values by multiplying column 1 and 2. \n",
    "- Column 4 should have value “Positive” if column 3 is a positive number.\n",
    "- Column 4 should have value “Negative” if column 3 is a negative number. \n",
    "- Create a new data frame of 1 column and 20 rows having random alphanumeric values of size 5. Name the column as ‘Password’ \n",
    "- Merge both the data frames to one single data frame. \n",
    "- Create a 2 new columns i.e. ‘Word’ and ‘Number’ by separating the alphabets and numbers from column “Password”.\n",
    "- Create a new column ‘Anomaly’. This column should have value ‘Found’ if the row entry in ‘Number’ is empty. \n",
    "- Insert a new column “Date” by inserting the current date. [ format: mmm-dd-yyyy ] \n",
    "- Insert a new column “Time” by inserting the current time. [ format: hh-mm-ss ] \n",
    "- Create a new column ‘Comment’. This column should have value ‘Non office hours of working’ if the row entry in ‘Time’ is not between 9 am to 7 pm. \n",
    "- Export the data frames to excel, csv, html and json formats. \n",
    "- Measure and display how much time it takes to execute the code. Optimise your code to reduce the time. Is this posible ? "
   ]
  },
  {
   "cell_type": "code",
   "execution_count": 1,
   "metadata": {},
   "outputs": [
    {
     "name": "stderr",
     "output_type": "stream",
     "text": [
      "<>:50: SyntaxWarning: invalid escape sequence '\\d'\n",
      "<>:50: SyntaxWarning: invalid escape sequence '\\d'\n",
      "/var/folders/d8/grpm6rlx467dk8kfz2zlcfcc0000gn/T/ipykernel_18914/3128340432.py:50: SyntaxWarning: invalid escape sequence '\\d'\n",
      "  Num=df['Password'].str.extract('(\\d+)')\n",
      "/var/folders/d8/grpm6rlx467dk8kfz2zlcfcc0000gn/T/ipykernel_18914/3128340432.py:50: SyntaxWarning: invalid escape sequence '\\d'\n",
      "  Num=df['Password'].str.extract('(\\d+)')\n"
     ]
    },
    {
     "ename": "AttributeError",
     "evalue": "module 'pandas.util' has no attribute 'testing'",
     "output_type": "error",
     "traceback": [
      "\u001b[0;31m---------------------------------------------------------------------------\u001b[0m",
      "\u001b[0;31mAttributeError\u001b[0m                            Traceback (most recent call last)",
      "Cell \u001b[0;32mIn[1], line 41\u001b[0m\n\u001b[1;32m     39\u001b[0m N \u001b[38;5;241m=\u001b[39m \u001b[38;5;241m20\u001b[39m\n\u001b[1;32m     40\u001b[0m \u001b[38;5;28;01mfrom\u001b[39;00m \u001b[38;5;21;01mpandas\u001b[39;00m\u001b[38;5;21;01m.\u001b[39;00m\u001b[38;5;21;01m_testing\u001b[39;00m \u001b[38;5;28;01mimport\u001b[39;00m rands_array\n\u001b[0;32m---> 41\u001b[0m s_arr \u001b[38;5;241m=\u001b[39m \u001b[43mpd\u001b[49m\u001b[38;5;241;43m.\u001b[39;49m\u001b[43mutil\u001b[49m\u001b[38;5;241;43m.\u001b[39;49m\u001b[43mtesting\u001b[49m\u001b[38;5;241m.\u001b[39mrands_array(\u001b[38;5;241m5\u001b[39m, N)\n\u001b[1;32m     42\u001b[0m df1\u001b[38;5;241m=\u001b[39mpd\u001b[38;5;241m.\u001b[39mDataFrame(s_arr)\n\u001b[1;32m     44\u001b[0m \u001b[38;5;66;03m# 8. Merge both the data frames to one single data frame.\u001b[39;00m\n",
      "File \u001b[0;32m~/anaconda3/envs/sandeep_personal/lib/python3.12/site-packages/pandas/util/__init__.py:25\u001b[0m, in \u001b[0;36m__getattr__\u001b[0;34m(key)\u001b[0m\n\u001b[1;32m     21\u001b[0m     \u001b[38;5;28;01mfrom\u001b[39;00m \u001b[38;5;21;01mpandas\u001b[39;00m\u001b[38;5;21;01m.\u001b[39;00m\u001b[38;5;21;01mutil\u001b[39;00m\u001b[38;5;21;01m.\u001b[39;00m\u001b[38;5;21;01m_decorators\u001b[39;00m \u001b[38;5;28;01mimport\u001b[39;00m cache_readonly\n\u001b[1;32m     23\u001b[0m     \u001b[38;5;28;01mreturn\u001b[39;00m cache_readonly\n\u001b[0;32m---> 25\u001b[0m \u001b[38;5;28;01mraise\u001b[39;00m \u001b[38;5;167;01mAttributeError\u001b[39;00m(\u001b[38;5;124mf\u001b[39m\u001b[38;5;124m\"\u001b[39m\u001b[38;5;124mmodule \u001b[39m\u001b[38;5;124m'\u001b[39m\u001b[38;5;124mpandas.util\u001b[39m\u001b[38;5;124m'\u001b[39m\u001b[38;5;124m has no attribute \u001b[39m\u001b[38;5;124m'\u001b[39m\u001b[38;5;132;01m{\u001b[39;00mkey\u001b[38;5;132;01m}\u001b[39;00m\u001b[38;5;124m'\u001b[39m\u001b[38;5;124m\"\u001b[39m)\n",
      "\u001b[0;31mAttributeError\u001b[0m: module 'pandas.util' has no attribute 'testing'"
     ]
    }
   ],
   "source": [
    "# 14. Measure and display how much time it takes to execute the code. Optimise your code to reduce the time.\n",
    "import time\n",
    "start_time = time.time()\n",
    "\n",
    "\n",
    "import pandas as pd\n",
    "import numpy as np\n",
    "import random\n",
    "\n",
    "# 1. Create a pandas data frame consisting of 4 columns and 20 rows.\n",
    "# 2. Column 1 should have values between 0 to 25.\n",
    "# 3. Column 2 should have values between -10 to 10\n",
    "\n",
    "# Columns as lists\n",
    "\n",
    "column1=random.sample(range(0, 25), 20)\n",
    "column2=random.sample(range(-10, 10), 20)\n",
    "\n",
    "\n",
    "data = {'Column_1':column1,\n",
    "        'Column_2':column2}\n",
    "\n",
    "# 4. Column 3 should have values by multiplying column 1 and 2.\n",
    "\n",
    "df=pd.DataFrame(data)\n",
    "df['Column_3']=df['Column_1']*df['Column_2']\n",
    "\n",
    "# 5. Column 4 should have value “Positive” if column 3 is a positive number.\n",
    "# 6. Column 4 should have value “Negative” if column 3 is a negative number.\n",
    "for i in range(len(df['Column_3'])):\n",
    "    k=df.loc[i,'Column_3']\n",
    "    if k>=0:\n",
    "        df.loc[i,'Column_4']='Positive'\n",
    "    else:\n",
    "        df.loc[i,'Column_4']='Negative'\n",
    "\n",
    "# 7. Create a new data frame of 1 column and 20 rows having random alphanumeric values of size 5. \n",
    "# Name the column as ‘Password’        \n",
    "N = 20\n",
    "from pandas._testing import rands_array\n",
    "s_arr = pd.util.testing.rands_array(5, N)\n",
    "df1=pd.DataFrame(s_arr)\n",
    "\n",
    "# 8. Merge both the data frames to one single data frame.\n",
    "df['Password']=df1\n",
    "\n",
    "# 9. Create a 2 new columns i.e. ‘Word’ and ‘Number’ by separating the \n",
    "# alphabets and numbers from column “Password”.\n",
    "Num=[]\n",
    "Num=df['Password'].str.extract('(\\d+)')\n",
    "\n",
    "import re\n",
    "Alpha=[]\n",
    "for i in range(len(df['Password'])):\n",
    "    text=df.loc[i,'Password']\n",
    "    alpha=re.findall(\"[a-zA-Z]+\", text)\n",
    "    Alpha.append(alpha)\n",
    "\n",
    "df['Alphabet']=Alpha\n",
    "df['Number']=Num\n",
    "\n",
    "# 10. Create a new column ‘Anomaly’. This column should have value ‘Found’ if the row entry in ‘Number’ is empty.\n",
    "df=df.fillna('No Number') \n",
    "\n",
    "for i in range(len(df['Number'])):\n",
    "    k=df.loc[i,'Number']\n",
    "    if k=='No Number':\n",
    "        df.loc[i,'Anomaly']='Found'\n",
    "    else:\n",
    "        df.loc[i,'Anomaly']=' '\n",
    "# 11. Insert a new column “Date” by inserting the current date. [ format: mmm-dd-yyyy ]\n",
    "\n",
    "from datetime import date\n",
    "today=date.today() \n",
    "df['Date']= today.strftime(\"%b-%d-%Y\")\n",
    "\n",
    "# 12. Insert a new column “Time” by inserting the current time. [ format: hh-mm-ss ]\n",
    "\n",
    "from datetime import datetime\n",
    "now = datetime.now()\n",
    "df['Time'] = now.strftime(\"%H:%M:%S\")\n",
    "\n",
    "# 13. Create a new column ‘Comment’. This column should have value \n",
    "# ‘Non office hours of working’ if the row entry in ‘Time’ is not between 9 am to 7 pm.\n",
    "\n",
    "for i in range(len(df['Time'])):\n",
    "    a=df.loc[i,'Time']\n",
    "    a=int(a[:2])\n",
    "    if a<9 or a>19:\n",
    "        df.loc[i,'Comment']=\"Non Office hours of working\"\n",
    "\n",
    "# 14. Export the data frames to excel, csv, html and json formats.       \n",
    "df.to_excel(\"Data.xlsx\")\n",
    "df.to_csv(\"Data.csv\")\n",
    "df.to_json(\"Data.json\")\n",
    "df.to_html(\"Data.html\")\n",
    "\n",
    "\n",
    "end_time = time.time()\n",
    "Time_taken=end_time-start_time\n",
    "print(\"Time taken\",round(Time_taken,3),\"seconds\")"
   ]
  },
  {
   "cell_type": "markdown",
   "metadata": {},
   "source": [
    "### Part II: [ GP: 25 Points ]\n",
    "\n",
    "Automate all the tasks listed in part I. \n",
    "- Your function should be able to create datasets with N rows. [ Where N is defined by the user. N is any integer. ]\n",
    "- Your function should be able to export datasets onto local machine in excel, csv, json, html or all formats. User can choose this.\n",
    "- Purpose of this function is to allow user to generate a dataset with N rows and store it on local machine.\n",
    "You might need to write a web of complex interrelated functions \n",
    "\n",
    "Hint: You might need to write a web of complex interrelated functions to make a flawless automation. Write individual or interrelated functions to automate steps in part I. Anything that needs just a trigger to start and auto-execute all the steps. Please find the below screenshot for your reference:"
   ]
  },
  {
   "cell_type": "code",
   "execution_count": 2,
   "metadata": {},
   "outputs": [],
   "source": [
    "# 1. Create a pandas data frame consisting of 4 columns and 20 rows.\n",
    "# 2. Column 1 should have values between 0 to 25.\n",
    "# 3. Column 2 should have values between -10 to 10\n",
    "\n",
    "# Columns as lists\n",
    "\n",
    "def F1(N):\n",
    "    global data,Rows\n",
    "    Rows=N\n",
    "    import pandas as pd\n",
    "    import numpy as np\n",
    "    import random\n",
    "    column1=random.sample(range(0, N+5), N)\n",
    "    column2=random.sample(range(-N, N), N)\n",
    "    data = {'Column_1':column1,'Column_2':column2}\n",
    "    print(\"1. Create a pandas data frame consisting of 4 columns and 20 rows\",\n",
    "          \"\\n2. Column 1 should have values between 0 to 25\",\n",
    "          \"\\n3. Column 2 should have values between -10 to 10 \")"
   ]
  },
  {
   "cell_type": "code",
   "execution_count": 3,
   "metadata": {},
   "outputs": [],
   "source": [
    "# 4. Column 3 should have values by multiplying column 1 and 2.\n",
    "\n",
    "def F2():\n",
    "    global df\n",
    "    import pandas as pd\n",
    "    import numpy as np\n",
    "    df=pd.DataFrame(data)\n",
    "    df['Column_3']=df['Column_1']*df['Column_2']\n",
    "    print(\"4. Column 3 should have values by multiplying column 1 and 2\")"
   ]
  },
  {
   "cell_type": "code",
   "execution_count": 4,
   "metadata": {},
   "outputs": [],
   "source": [
    "# 5. Column 4 should have value “Positive” if column 3 is a positive number.\n",
    "# 6. Column 4 should have value “Negative” if column 3 is a negative number.\n",
    "\n",
    "def F3():\n",
    "    global df\n",
    "    import pandas as pd\n",
    "    import numpy as np\n",
    "    for i in range(len(df['Column_3'])):\n",
    "        k=df.loc[i,'Column_3']\n",
    "        if k>=0:\n",
    "            df.loc[i,'Column_4']='Positive'\n",
    "        else:\n",
    "            df.loc[i,'Column_4']='Negative'\n",
    "    print(\"5. Column 4 should have value “Positive” if column 3 is a positive number.\",\n",
    "            \"\\n6. Column 4 should have value “Negative” if column 3 is a negative number\")"
   ]
  },
  {
   "cell_type": "code",
   "execution_count": 5,
   "metadata": {},
   "outputs": [],
   "source": [
    "# 7. Create a new data frame of 1 column and 20 rows having random alphanumeric values of size 5. \n",
    "# Name the column as ‘Password’        \n",
    "\n",
    "def F4():\n",
    "    global df1\n",
    "    import pandas as pd\n",
    "    import numpy as np\n",
    "    from pandas._testing import rands_array\n",
    "    s_arr = pd.util.testing.rands_array(5, Rows)\n",
    "    df1=pd.DataFrame(s_arr)\n",
    "    print(\"7. Create a new data frame of 1 column and 20 rows having random alphanumeric values of size 5\")"
   ]
  },
  {
   "cell_type": "code",
   "execution_count": 6,
   "metadata": {},
   "outputs": [],
   "source": [
    "# 8. Merge both the data frames to one single data frame.\n",
    "\n",
    "def F5():\n",
    "    global df\n",
    "    import pandas as pd\n",
    "    import numpy as np\n",
    "    df['Password']=df1\n",
    "    print(\"8. Merge both the data frames to one single data frame\")"
   ]
  },
  {
   "cell_type": "code",
   "execution_count": 7,
   "metadata": {},
   "outputs": [
    {
     "name": "stderr",
     "output_type": "stream",
     "text": [
      "<>:9: SyntaxWarning: invalid escape sequence '\\d'\n",
      "<>:9: SyntaxWarning: invalid escape sequence '\\d'\n",
      "/var/folders/d8/grpm6rlx467dk8kfz2zlcfcc0000gn/T/ipykernel_18914/1849142870.py:9: SyntaxWarning: invalid escape sequence '\\d'\n",
      "  Num=df['Password'].str.extract('(\\d+)')\n"
     ]
    }
   ],
   "source": [
    "# 9. Create a 2 new columns i.e. ‘Word’ and ‘Number’ by separating the \n",
    "# alphabets and numbers from column “Password”.\n",
    "\n",
    "def F6():\n",
    "    global df\n",
    "    import pandas as pd\n",
    "    import numpy as np\n",
    "    Num=[]\n",
    "    Num=df['Password'].str.extract('(\\d+)')\n",
    "\n",
    "    import re\n",
    "    Alpha=[]\n",
    "    for i in range(len(df['Password'])):\n",
    "        text=df.loc[i,'Password']\n",
    "        alpha=re.findall(\"[a-zA-Z]+\", text)\n",
    "        Alpha.append(alpha)\n",
    "\n",
    "    df['Alphabet']=Alpha\n",
    "    df['Number']=Num\n",
    "    print(\"9. Create a 2 new columns i.e. ‘Word’ and ‘Number’ by separating the alphabets and numbers from column “Password\")"
   ]
  },
  {
   "cell_type": "code",
   "execution_count": 8,
   "metadata": {},
   "outputs": [],
   "source": [
    "# 10. Create a new column ‘Anomaly’. This column should have value ‘Found’ if the row entry in ‘Number’ is empty.\n",
    "\n",
    "def F7():\n",
    "    global df\n",
    "    import pandas as pd\n",
    "    import numpy as np\n",
    "    df=df.fillna('No Number') \n",
    "\n",
    "    for i in range(len(df['Number'])):\n",
    "        k=df.loc[i,'Number']\n",
    "        if k=='No Number':\n",
    "            df.loc[i,'Anomaly']='Found'\n",
    "        else:\n",
    "            df.loc[i,'Anomaly']=' '\n",
    "    print(\"10. Create a new column ‘Anomaly’. This column should have value ‘Found’ if the row entry in ‘Number’ is empty.\")"
   ]
  },
  {
   "cell_type": "code",
   "execution_count": 9,
   "metadata": {},
   "outputs": [],
   "source": [
    "# 11. Insert a new column “Date” by inserting the current date. [ format: mmm-dd-yyyy ]\n",
    "\n",
    "def F8():\n",
    "    global df\n",
    "    import pandas as pd\n",
    "    import numpy as np\n",
    "    from datetime import date\n",
    "    today=date.today() \n",
    "    df['Date']= today.strftime(\"%b-%d-%Y\")\n",
    "    print(\"11. Insert a new column “Date” by inserting the current date. [ format: mmm-dd-yyyy ]\")\n"
   ]
  },
  {
   "cell_type": "code",
   "execution_count": 48,
   "metadata": {},
   "outputs": [],
   "source": [
    "# 12. Insert a new column “Time” by inserting the current time. [ format: hh-mm-ss ]\n",
    "\n",
    "def F9():\n",
    "    global df\n",
    "    import pandas as pd\n",
    "    import numpy as np\n",
    "    from datetime import datetime\n",
    "    now = datetime.now()\n",
    "    df['Time'] = now.strftime(\"%H:%M:%S\")\n",
    "    print(\"12. Insert a new column “Time” by inserting the current time. [ format: hh-mm-ss ]\")"
   ]
  },
  {
   "cell_type": "code",
   "execution_count": 10,
   "metadata": {},
   "outputs": [],
   "source": [
    "# 13. Create a new column ‘Comment’. This column should have value \n",
    "# ‘Non office hours of working’ if the row entry in ‘Time’ is not between 9 am to 7 pm.\n",
    "\n",
    "def F10():\n",
    "    global df\n",
    "    import pandas as pd\n",
    "    import numpy as np\n",
    "    from datetime import datetime\n",
    "    for i in range(len(df['Time'])):\n",
    "        a=df.loc[i,'Time']\n",
    "        a=int(a[:2])\n",
    "        if a<9 or a>19:\n",
    "            df.loc[i,'Comment']=\"Non Office hours of working\"\n",
    "    print(\"13. Create a new column ‘Comment’. This column should have value ‘Non office hours of working’ if the row entry in ‘Time’ is not between 9 am to 7 pm.\")"
   ]
  },
  {
   "cell_type": "code",
   "execution_count": 11,
   "metadata": {},
   "outputs": [],
   "source": [
    "# 14. Export the data frames to excel, csv, html and json formats.       \n",
    "def F11():\n",
    "    df.to_excel(\"Data.xlsx\")\n",
    "    print(\"Export the data frames to excel\")\n"
   ]
  },
  {
   "cell_type": "code",
   "execution_count": 12,
   "metadata": {},
   "outputs": [],
   "source": [
    "def F12():\n",
    "    df.to_csv(\"Data.csv\")\n",
    "    print(\"Export the data frames to csv\")"
   ]
  },
  {
   "cell_type": "code",
   "execution_count": 13,
   "metadata": {},
   "outputs": [],
   "source": [
    "def F13():\n",
    "    df.to_json(\"Data.json\")\n",
    "    print(\"Export the data frames to json\")"
   ]
  },
  {
   "cell_type": "code",
   "execution_count": 14,
   "metadata": {},
   "outputs": [],
   "source": [
    "def F14():\n",
    "    df.to_html(\"Data.html\")\n",
    "    print(\"Export the data frames to html\")"
   ]
  },
  {
   "cell_type": "code",
   "execution_count": 15,
   "metadata": {},
   "outputs": [],
   "source": [
    "# Main function\n",
    "\n",
    "def Main_Function(ROWS,FORMAT):\n",
    "    import time\n",
    "    start_time = time.time()\n",
    "    print(\"Starting the main function\")\n",
    "    F1(ROWS)\n",
    "    F2()\n",
    "    F3()\n",
    "    F4()\n",
    "    F5()\n",
    "    F6()\n",
    "    F7()\n",
    "    F8()\n",
    "    F9()\n",
    "    F10()\n",
    "    if FORMAT=='excel' or FORMAT=='xlsx' or FORMAT=='Excel' or FORMAT=='EXCEL'or FORMAT=='.xlsx' or FORMAT=='.XLSX':\n",
    "        F11()\n",
    "    elif FORMAT=='csv' or FORMAT=='CSV' or FORMAT=='.csv' or FORMAT=='.CSV':\n",
    "        F12()\n",
    "    elif FORMAT=='json' or FORMAT=='.json' or FORMAT=='.JSON' or FORMAT=='JSON':\n",
    "        F13()\n",
    "    elif FORMAT=='HTML' or FORMAT=='.HTML' or FORMAT=='html' or FORMAT=='.html':\n",
    "        F14()\n",
    "    elif FORMAT=='All' or FORMAT=='all' or FORMAT=='All formats' or FORMAT=='all formats':\n",
    "        F11()\n",
    "        F12()\n",
    "        F13()\n",
    "        F14()\n",
    "    end_time = time.time()\n",
    "    Time_taken=end_time-start_time\n",
    "    print(\"Time taken\",round(Time_taken,3),\"seconds\")\n",
    "    print(\"Ending the main function\")"
   ]
  },
  {
   "cell_type": "code",
   "execution_count": 16,
   "metadata": {},
   "outputs": [
    {
     "name": "stdout",
     "output_type": "stream",
     "text": [
      "Starting the main function\n",
      "1. Create a pandas data frame consisting of 4 columns and 20 rows \n",
      "2. Column 1 should have values between 0 to 25 \n",
      "3. Column 2 should have values between -10 to 10 \n",
      "4. Column 3 should have values by multiplying column 1 and 2\n",
      "5. Column 4 should have value “Positive” if column 3 is a positive number. \n",
      "6. Column 4 should have value “Negative” if column 3 is a negative number\n"
     ]
    },
    {
     "ename": "AttributeError",
     "evalue": "module 'pandas.util' has no attribute 'testing'",
     "output_type": "error",
     "traceback": [
      "\u001b[0;31m---------------------------------------------------------------------------\u001b[0m",
      "\u001b[0;31mAttributeError\u001b[0m                            Traceback (most recent call last)",
      "Cell \u001b[0;32mIn[16], line 1\u001b[0m\n\u001b[0;32m----> 1\u001b[0m \u001b[43mMain_Function\u001b[49m\u001b[43m(\u001b[49m\u001b[38;5;241;43m33\u001b[39;49m\u001b[43m,\u001b[49m\u001b[38;5;124;43m\"\u001b[39;49m\u001b[38;5;124;43mhtml\u001b[39;49m\u001b[38;5;124;43m\"\u001b[39;49m\u001b[43m)\u001b[49m\n",
      "Cell \u001b[0;32mIn[15], line 10\u001b[0m, in \u001b[0;36mMain_Function\u001b[0;34m(ROWS, FORMAT)\u001b[0m\n\u001b[1;32m      8\u001b[0m F2()\n\u001b[1;32m      9\u001b[0m F3()\n\u001b[0;32m---> 10\u001b[0m \u001b[43mF4\u001b[49m\u001b[43m(\u001b[49m\u001b[43m)\u001b[49m\n\u001b[1;32m     11\u001b[0m F5()\n\u001b[1;32m     12\u001b[0m F6()\n",
      "Cell \u001b[0;32mIn[5], line 9\u001b[0m, in \u001b[0;36mF4\u001b[0;34m()\u001b[0m\n\u001b[1;32m      7\u001b[0m \u001b[38;5;28;01mimport\u001b[39;00m \u001b[38;5;21;01mnumpy\u001b[39;00m \u001b[38;5;28;01mas\u001b[39;00m \u001b[38;5;21;01mnp\u001b[39;00m\n\u001b[1;32m      8\u001b[0m \u001b[38;5;28;01mfrom\u001b[39;00m \u001b[38;5;21;01mpandas\u001b[39;00m\u001b[38;5;21;01m.\u001b[39;00m\u001b[38;5;21;01m_testing\u001b[39;00m \u001b[38;5;28;01mimport\u001b[39;00m rands_array\n\u001b[0;32m----> 9\u001b[0m s_arr \u001b[38;5;241m=\u001b[39m \u001b[43mpd\u001b[49m\u001b[38;5;241;43m.\u001b[39;49m\u001b[43mutil\u001b[49m\u001b[38;5;241;43m.\u001b[39;49m\u001b[43mtesting\u001b[49m\u001b[38;5;241m.\u001b[39mrands_array(\u001b[38;5;241m5\u001b[39m, Rows)\n\u001b[1;32m     10\u001b[0m df1\u001b[38;5;241m=\u001b[39mpd\u001b[38;5;241m.\u001b[39mDataFrame(s_arr)\n\u001b[1;32m     11\u001b[0m \u001b[38;5;28mprint\u001b[39m(\u001b[38;5;124m\"\u001b[39m\u001b[38;5;124m7. Create a new data frame of 1 column and 20 rows having random alphanumeric values of size 5\u001b[39m\u001b[38;5;124m\"\u001b[39m)\n",
      "File \u001b[0;32m~/anaconda3/envs/sandeep_personal/lib/python3.12/site-packages/pandas/util/__init__.py:25\u001b[0m, in \u001b[0;36m__getattr__\u001b[0;34m(key)\u001b[0m\n\u001b[1;32m     21\u001b[0m     \u001b[38;5;28;01mfrom\u001b[39;00m \u001b[38;5;21;01mpandas\u001b[39;00m\u001b[38;5;21;01m.\u001b[39;00m\u001b[38;5;21;01mutil\u001b[39;00m\u001b[38;5;21;01m.\u001b[39;00m\u001b[38;5;21;01m_decorators\u001b[39;00m \u001b[38;5;28;01mimport\u001b[39;00m cache_readonly\n\u001b[1;32m     23\u001b[0m     \u001b[38;5;28;01mreturn\u001b[39;00m cache_readonly\n\u001b[0;32m---> 25\u001b[0m \u001b[38;5;28;01mraise\u001b[39;00m \u001b[38;5;167;01mAttributeError\u001b[39;00m(\u001b[38;5;124mf\u001b[39m\u001b[38;5;124m\"\u001b[39m\u001b[38;5;124mmodule \u001b[39m\u001b[38;5;124m'\u001b[39m\u001b[38;5;124mpandas.util\u001b[39m\u001b[38;5;124m'\u001b[39m\u001b[38;5;124m has no attribute \u001b[39m\u001b[38;5;124m'\u001b[39m\u001b[38;5;132;01m{\u001b[39;00mkey\u001b[38;5;132;01m}\u001b[39;00m\u001b[38;5;124m'\u001b[39m\u001b[38;5;124m\"\u001b[39m)\n",
      "\u001b[0;31mAttributeError\u001b[0m: module 'pandas.util' has no attribute 'testing'"
     ]
    }
   ],
   "source": [
    "Main_Function(33,\"html\")"
   ]
  },
  {
   "cell_type": "markdown",
   "metadata": {},
   "source": [
    "                                        END"
   ]
  },
  {
   "cell_type": "markdown",
   "metadata": {},
   "source": [
    "\n",
    "_________________________________________________________________\n",
    "\n",
    "©Great Learning. Proprietary content. All Rights Reserved. Unauthorised use or distribution prohibited\n",
    "________________________________________________________"
   ]
  }
 ],
 "metadata": {
  "kernelspec": {
   "display_name": "Python 3",
   "language": "python",
   "name": "python3"
  },
  "language_info": {
   "codemirror_mode": {
    "name": "ipython",
    "version": 3
   },
   "file_extension": ".py",
   "mimetype": "text/x-python",
   "name": "python",
   "nbconvert_exporter": "python",
   "pygments_lexer": "ipython3",
   "version": "3.12.0"
  }
 },
 "nbformat": 4,
 "nbformat_minor": 4
}
