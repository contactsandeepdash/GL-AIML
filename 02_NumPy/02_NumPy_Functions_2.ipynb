{
 "cells": [
  {
   "cell_type": "code",
   "execution_count": 5,
   "metadata": {},
   "outputs": [],
   "source": [
    "import numpy as np"
   ]
  },
  {
   "cell_type": "code",
   "execution_count": 2,
   "metadata": {},
   "outputs": [
    {
     "data": {
      "text/plain": [
       "array([0, 1, 2, 3, 4, 5, 6, 7, 8, 9])"
      ]
     },
     "execution_count": 2,
     "metadata": {},
     "output_type": "execute_result"
    }
   ],
   "source": [
    "# definling an array with values 0 to 9\n",
    "arr1 = np.arange(0, 10)\n",
    "arr1"
   ]
  },
  {
   "cell_type": "code",
   "execution_count": 3,
   "metadata": {},
   "outputs": [
    {
     "data": {
      "text/plain": [
       "array([[0, 1, 2, 3, 4],\n",
       "       [5, 6, 7, 8, 9]])"
      ]
     },
     "execution_count": 3,
     "metadata": {},
     "output_type": "execute_result"
    }
   ],
   "source": [
    "\"\"\"\n",
    "    convert 1-dimension array to matrix. This can be done using np.reshape() function\n",
    "    By reshaping an array we can add or remove dimensions or change number of the elements in each dimension\n",
    "    Syntax: \n",
    "        array.reshape(shape)\n",
    "    shape = a tuple given as input. The values in the tuple will be the new shape of the array\n",
    "\"\"\"\n",
    "# reshaping the array arr1 to a 2 X 5 matrix\n",
    "arr1_reshaped = arr1.reshape((2,5))\n",
    "arr1_reshaped\n",
    "\n",
    "# reshaping to 2 X 6 is not possible, as 12 elements will be needed to fit into 2 X 6."
   ]
  },
  {
   "cell_type": "code",
   "execution_count": 9,
   "metadata": {},
   "outputs": [
    {
     "name": "stdout",
     "output_type": "stream",
     "text": [
      "Sine function =  0.8939966636005579\n",
      "Cosine function =  -0.4480736161291702\n",
      "Tan function =  -1.995200412208242\n",
      "Sine function pi/2 =  1.0\n",
      "Cosine function pi/2 =  -1.0\n",
      "Tan function pi/2 =  1.557407724654902\n"
     ]
    }
   ],
   "source": [
    "\"\"\"\n",
    "    NumPy can also perform a  large number of different mathematical operations.\n",
    "    1. Trigonometric functions\n",
    "    2. Exponents and Logarithmic functions\n",
    "    3. Functions for arithmetic operations between arrays and metrices\n",
    "\"\"\"\n",
    "\n",
    "# 1. Trigonometric functions\n",
    "print('Sine function = ', np.sin(90))\n",
    "print('Cosine function = ', np.cos(90))\n",
    "print('Tan function = ', np.tan(90))\n",
    "\n",
    "print('Sine function pi/2 = ', np.sin(np.pi/2))\n",
    "print('Cosine function pi/2 = ', np.cos(np.pi))\n",
    "print('Tan function pi/2 = ', np.tan(1))"
   ]
  },
  {
   "cell_type": "code",
   "execution_count": 12,
   "metadata": {},
   "outputs": [
    {
     "name": "stdout",
     "output_type": "stream",
     "text": [
      "Sine function =  [ 0.          0.84147098  0.90929743  0.14112001 -0.7568025  -0.95892427\n",
      " -0.2794155   0.6569866   0.98935825  0.41211849]\n",
      "Cosine function =  [ 1.          0.54030231 -0.41614684 -0.9899925  -0.65364362  0.28366219\n",
      "  0.96017029  0.75390225 -0.14550003 -0.91113026]\n",
      "Tan function =  [ 0.          1.55740772 -2.18503986 -0.14254654  1.15782128 -3.38051501\n",
      " -0.29100619  0.87144798 -6.79971146 -0.45231566]\n"
     ]
    }
   ],
   "source": [
    "print('Sine function = ', np.sin(arr1))\n",
    "print('Cosine function = ', np.cos(arr1))\n",
    "print('Tan function = ', np.tan(arr1))"
   ]
  },
  {
   "cell_type": "code",
   "execution_count": 7,
   "metadata": {},
   "outputs": [
    {
     "name": "stdout",
     "output_type": "stream",
     "text": [
      "7.38905609893065\n",
      "4.0\n"
     ]
    },
    {
     "data": {
      "text/plain": [
       "array([  7.3890561 ,  54.59815003, 403.42879349])"
      ]
     },
     "execution_count": 7,
     "metadata": {},
     "output_type": "execute_result"
    }
   ],
   "source": [
    "# exponents\n",
    "print(np.exp(2))\n",
    "print(np.exp2(2))\n",
    "\n",
    "arr2 = np.array([2,4,6])\n",
    "np.exp(arr2)"
   ]
  },
  {
   "cell_type": "code",
   "execution_count": 8,
   "metadata": {},
   "outputs": [
    {
     "name": "stdout",
     "output_type": "stream",
     "text": [
      "[0.69314718 1.38629436 1.79175947]\n",
      "[0.30103    0.60205999 0.77815125]\n"
     ]
    }
   ],
   "source": [
    "# logarithms\n",
    "print(np.log(arr2))\n",
    "print(np.log10(arr2))"
   ]
  },
  {
   "cell_type": "code",
   "execution_count": 9,
   "metadata": {},
   "outputs": [
    {
     "data": {
      "text/plain": [
       "3.0"
      ]
     },
     "execution_count": 9,
     "metadata": {},
     "output_type": "execute_result"
    }
   ],
   "source": [
    "np.log10(1000)"
   ]
  },
  {
   "cell_type": "code",
   "execution_count": null,
   "metadata": {},
   "outputs": [],
   "source": []
  }
 ],
 "metadata": {
  "kernelspec": {
   "display_name": "base",
   "language": "python",
   "name": "python3"
  },
  "language_info": {
   "codemirror_mode": {
    "name": "ipython",
    "version": 3
   },
   "file_extension": ".py",
   "mimetype": "text/x-python",
   "name": "python",
   "nbconvert_exporter": "python",
   "pygments_lexer": "ipython3",
   "version": "3.11.7"
  }
 },
 "nbformat": 4,
 "nbformat_minor": 2
}
