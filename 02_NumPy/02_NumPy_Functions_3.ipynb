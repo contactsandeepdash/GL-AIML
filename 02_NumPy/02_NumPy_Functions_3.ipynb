{
 "cells": [
  {
   "cell_type": "code",
   "execution_count": 1,
   "metadata": {},
   "outputs": [],
   "source": [
    "import numpy as np"
   ]
  },
  {
   "cell_type": "code",
   "execution_count": 2,
   "metadata": {},
   "outputs": [
    {
     "name": "stdout",
     "output_type": "stream",
     "text": [
      "[1, 2, 3, 4, 5, 6]\n"
     ]
    }
   ],
   "source": [
    "# arithmetic on list\n",
    "l1=[1,2,3]\n",
    "l2=[4,5,6]\n",
    "print(l1 + l2)"
   ]
  },
  {
   "cell_type": "code",
   "execution_count": 3,
   "metadata": {},
   "outputs": [
    {
     "name": "stdout",
     "output_type": "stream",
     "text": [
      "arr1 =  [1 2 3 4 5]\n",
      "arr2 =  [3 4 5 6 7]\n"
     ]
    }
   ],
   "source": [
    "# we can +-*/ arrays together\n",
    "\n",
    "arr1 = np.arange(1,6)\n",
    "print('arr1 = ', arr1)\n",
    "\n",
    "arr2 = np.arange(3,8)\n",
    "print('arr2 = ', arr2)"
   ]
  },
  {
   "cell_type": "code",
   "execution_count": 4,
   "metadata": {},
   "outputs": [
    {
     "name": "stdout",
     "output_type": "stream",
     "text": [
      "addition =  [ 4  6  8 10 12]\n",
      "subtraction =  [-2 -2 -2 -2 -2]\n",
      "multiplication =  [ 3  8 15 24 35]\n",
      "division =  [0.33333333 0.5        0.6        0.66666667 0.71428571]\n",
      "inverse =  [1.         0.5        0.33333333 0.25       0.2       ]\n",
      "powers =  [    1    16   243  4096 78125]\n"
     ]
    }
   ],
   "source": [
    "print('addition = ', arr1 + arr2)\n",
    "print('subtraction = ', arr1 - arr2)\n",
    "print('multiplication = ', arr1 * arr2)\n",
    "print('division = ', arr1 / arr2)\n",
    "print('inverse = ', 1/arr1)\n",
    "print('powers = ', arr1 ** arr2)"
   ]
  },
  {
   "cell_type": "code",
   "execution_count": 5,
   "metadata": {},
   "outputs": [
    {
     "name": "stdout",
     "output_type": "stream",
     "text": [
      "[[1 2 3]\n",
      " [4 5 6]\n",
      " [7 8 9]]\n",
      "[[1. 0. 0.]\n",
      " [0. 1. 0.]\n",
      " [0. 0. 1.]]\n"
     ]
    }
   ],
   "source": [
    "# operations on matrices\n",
    "\n",
    "arr3 = np.arange(1,10).reshape(3,3)\n",
    "print(arr3)\n",
    "\n",
    "arr4 = np.eye(3)\n",
    "print(arr4)"
   ]
  },
  {
   "cell_type": "code",
   "execution_count": 6,
   "metadata": {},
   "outputs": [
    {
     "name": "stdout",
     "output_type": "stream",
     "text": [
      "addition = \n",
      " [[ 2.  2.  3.]\n",
      " [ 4.  6.  6.]\n",
      " [ 7.  8. 10.]]\n",
      "subtraction = \n",
      " [[0. 2. 3.]\n",
      " [4. 4. 6.]\n",
      " [7. 8. 8.]]\n",
      "multiplication = \n",
      " [[1. 0. 0.]\n",
      " [0. 5. 0.]\n",
      " [0. 0. 9.]]\n",
      "division = \n",
      " [[ 1. inf inf]\n",
      " [inf  5. inf]\n",
      " [inf inf  9.]]\n"
     ]
    },
    {
     "name": "stderr",
     "output_type": "stream",
     "text": [
      "/var/folders/d8/grpm6rlx467dk8kfz2zlcfcc0000gn/T/ipykernel_87308/4106955805.py:4: RuntimeWarning: divide by zero encountered in divide\n",
      "  print('division = \\n', arr3 / arr4)\n"
     ]
    }
   ],
   "source": [
    "print('addition = \\n', arr3 + arr4)\n",
    "print('subtraction = \\n', arr3 - arr4)\n",
    "print('multiplication = \\n', arr3 * arr4)\n",
    "print('division = \\n', arr3 / arr4)\n"
   ]
  },
  {
   "cell_type": "code",
   "execution_count": 7,
   "metadata": {},
   "outputs": [
    {
     "name": "stdout",
     "output_type": "stream",
     "text": [
      "first matrix = \n",
      " [[1 2 3]\n",
      " [4 5 6]\n",
      " [7 8 9]]\n",
      "second matrix = \n",
      " [[11 12 13]\n",
      " [14 15 16]\n",
      " [17 18 19]]\n",
      "Multiplication = \n",
      " [[ 90  96 102]\n",
      " [216 231 246]\n",
      " [342 366 390]]\n"
     ]
    }
   ],
   "source": [
    "# Linear algebra matrix multiplication\n",
    "\n",
    "matrix9 = np.arange(1,10).reshape(3,3)\n",
    "print('first matrix = \\n', matrix9)\n",
    "\n",
    "matrix10 = np.arange(11,20).reshape(3,3)\n",
    "print('second matrix = \\n', matrix10)\n",
    "\n",
    "# dot product\n",
    "print('Multiplication = \\n', matrix9 @ matrix10)"
   ]
  },
  {
   "cell_type": "code",
   "execution_count": 8,
   "metadata": {},
   "outputs": [
    {
     "name": "stdout",
     "output_type": "stream",
     "text": [
      "[[1 2 3]\n",
      " [4 5 6]\n",
      " [7 8 9]]\n"
     ]
    },
    {
     "data": {
      "text/plain": [
       "array([[1, 4, 7],\n",
       "       [2, 5, 8],\n",
       "       [3, 6, 9]])"
      ]
     },
     "execution_count": 8,
     "metadata": {},
     "output_type": "execute_result"
    }
   ],
   "source": [
    "# transpose a matrix\n",
    "\n",
    "print(matrix9)\n",
    "np.transpose(matrix9)"
   ]
  },
  {
   "cell_type": "code",
   "execution_count": 9,
   "metadata": {},
   "outputs": [
    {
     "data": {
      "text/plain": [
       "array([[1, 4, 7],\n",
       "       [2, 5, 8],\n",
       "       [3, 6, 9]])"
      ]
     },
     "execution_count": 9,
     "metadata": {},
     "output_type": "execute_result"
    }
   ],
   "source": [
    "# another way of making transpose\n",
    "matrix9.T"
   ]
  },
  {
   "cell_type": "code",
   "execution_count": 10,
   "metadata": {},
   "outputs": [
    {
     "name": "stdout",
     "output_type": "stream",
     "text": [
      "[[1 2 3]\n",
      " [4 5 6]\n",
      " [7 8 9]]\n",
      "min value =  1\n",
      "max value =  9\n"
     ]
    }
   ],
   "source": [
    "# max and min in a matrix\n",
    "\n",
    "print(matrix9)\n",
    "print('min value = ', np.min(matrix9))\n",
    "print('max value = ', np.max(matrix9))"
   ]
  },
  {
   "cell_type": "code",
   "execution_count": 11,
   "metadata": {},
   "outputs": [
    {
     "data": {
      "text/plain": [
       "array([0.16895293, 0.07987029, 0.03888935, 0.32049794, 0.00736605])"
      ]
     },
     "execution_count": 11,
     "metadata": {},
     "output_type": "execute_result"
    }
   ],
   "source": [
    "# generate random sample (including 0 but, excluding 1)\n",
    "np.random.rand(5)"
   ]
  },
  {
   "cell_type": "code",
   "execution_count": 12,
   "metadata": {},
   "outputs": [
    {
     "name": "stdout",
     "output_type": "stream",
     "text": [
      "[[0.62456722 0.86388777 0.70829143 0.02644402 0.38705321]\n",
      " [0.16097964 0.8806206  0.7716792  0.22432435 0.7964755 ]\n",
      " [0.20522277 0.1196421  0.12687718 0.10793812 0.1501377 ]\n",
      " [0.88045646 0.24722209 0.30121192 0.17008715 0.44218101]\n",
      " [0.59469256 0.9185095  0.75940491 0.33420985 0.06671947]]\n"
     ]
    }
   ],
   "source": [
    "print(np.random.rand(5,5))"
   ]
  },
  {
   "cell_type": "code",
   "execution_count": 13,
   "metadata": {},
   "outputs": [
    {
     "name": "stdout",
     "output_type": "stream",
     "text": [
      "[[ 1.50507687  0.23778427  0.4010948   2.39476837  0.64737449]\n",
      " [-0.73612344 -0.88181661  1.97110395  0.61184381 -1.01080129]\n",
      " [-0.05313415  0.31650829  0.04288506  2.09091341  0.86433011]\n",
      " [-2.22932723  0.2654633  -0.32753995  1.0755454  -0.03057358]\n",
      " [ 0.67015411  0.3088761   0.31645913  1.32633117 -0.89818732]]\n"
     ]
    }
   ],
   "source": [
    "# randn function (standard normal distribution - mean as 0 and standard deviation as 1)\n",
    "print(np.random.randn(5,5))"
   ]
  },
  {
   "cell_type": "code",
   "execution_count": 14,
   "metadata": {},
   "outputs": [
    {
     "name": "stdout",
     "output_type": "stream",
     "text": [
      "Mean :  0.4244048045194907\n",
      "Standard Deviation :  0.3182500027497282\n"
     ]
    }
   ],
   "source": [
    "print('Mean : ', np.mean(np.random.rand(5,5)))\n",
    "print('Standard Deviation : ', np.std(np.random.rand(5,5)))"
   ]
  },
  {
   "cell_type": "code",
   "execution_count": 15,
   "metadata": {},
   "outputs": [
    {
     "name": "stdout",
     "output_type": "stream",
     "text": [
      "[3 2 4 2 3 2 1 3 4 3]\n"
     ]
    }
   ],
   "source": [
    "# generating random values in an array\n",
    "rand_mat1 = np.random.randint(1,5,10)\n",
    "print(rand_mat1)"
   ]
  },
  {
   "cell_type": "code",
   "execution_count": 16,
   "metadata": {},
   "outputs": [
    {
     "name": "stdout",
     "output_type": "stream",
     "text": [
      "[[1 1 3 8 1]\n",
      " [9 5 7 4 7]\n",
      " [3 2 7 2 4]\n",
      " [7 8 9 2 9]\n",
      " [2 8 4 5 7]]\n"
     ]
    }
   ],
   "source": [
    "# generating random values in a matrix\n",
    "rand_mat2 = np.random.randint(1,10, [5,5])\n",
    "print(rand_mat2)"
   ]
  },
  {
   "cell_type": "code",
   "execution_count": null,
   "metadata": {},
   "outputs": [],
   "source": []
  }
 ],
 "metadata": {
  "kernelspec": {
   "display_name": "base",
   "language": "python",
   "name": "python3"
  },
  "language_info": {
   "codemirror_mode": {
    "name": "ipython",
    "version": 3
   },
   "file_extension": ".py",
   "mimetype": "text/x-python",
   "name": "python",
   "nbconvert_exporter": "python",
   "pygments_lexer": "ipython3",
   "version": "3.12.0"
  }
 },
 "nbformat": 4,
 "nbformat_minor": 2
}
