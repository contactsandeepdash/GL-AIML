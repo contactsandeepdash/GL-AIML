{
 "cells": [
  {
   "cell_type": "code",
   "execution_count": 1,
   "metadata": {},
   "outputs": [],
   "source": [
    "import numpy as np"
   ]
  },
  {
   "cell_type": "code",
   "execution_count": 7,
   "metadata": {},
   "outputs": [
    {
     "name": "stdout",
     "output_type": "stream",
     "text": [
      "[[2 9 5 4 1]\n",
      " [9 3 7 6 8]\n",
      " [5 1 1 4 4]\n",
      " [5 7 7 6 6]\n",
      " [6 9 4 1 8]]\n"
     ]
    }
   ],
   "source": [
    "rand_mat1 = np.random.randint(1,10, [5,5])\n",
    "print(rand_mat1)"
   ]
  },
  {
   "cell_type": "code",
   "execution_count": 8,
   "metadata": {},
   "outputs": [
    {
     "name": "stdout",
     "output_type": "stream",
     "text": [
      "matrix before modification: \n",
      " [[2 9 5 4 1]\n",
      " [9 3 7 6 8]\n",
      " [5 1 1 4 4]\n",
      " [5 7 7 6 6]\n",
      " [6 9 4 1 8]]\n",
      "matrix after modification: \n",
      " [[2 9 5 4 1]\n",
      " [9 3 7 0 0]\n",
      " [5 1 1 0 0]\n",
      " [5 7 7 6 6]\n",
      " [6 9 4 1 8]]\n"
     ]
    }
   ],
   "source": [
    "# modifying the entries of a matrix\n",
    "\n",
    "print('matrix before modification: \\n', rand_mat1)\n",
    "\n",
    "rand_mat1[1:3, 3:5] = 0\n",
    "print('matrix after modification: \\n', rand_mat1)"
   ]
  },
  {
   "cell_type": "code",
   "execution_count": 9,
   "metadata": {},
   "outputs": [
    {
     "name": "stdout",
     "output_type": "stream",
     "text": [
      "[[2 9 5]\n",
      " [9 3 7]]\n"
     ]
    }
   ],
   "source": [
    "# extracting 1st 2 rows and 1st 3 columns from a matrix\n",
    "\n",
    "sub_mat = rand_mat1[0:2, 0:3]\n",
    "print(sub_mat)"
   ]
  },
  {
   "cell_type": "code",
   "execution_count": 10,
   "metadata": {},
   "outputs": [
    {
     "name": "stdout",
     "output_type": "stream",
     "text": [
      "[[3 3 3]\n",
      " [3 3 3]]\n"
     ]
    }
   ],
   "source": [
    "# chaneing all the values of the extracted matrix to 3\n",
    "\n",
    "sub_mat[:] = 3\n",
    "print(sub_mat)"
   ]
  },
  {
   "cell_type": "code",
   "execution_count": 11,
   "metadata": {},
   "outputs": [
    {
     "data": {
      "text/plain": [
       "array([[3, 3, 3, 4, 1],\n",
       "       [3, 3, 3, 0, 0],\n",
       "       [5, 1, 1, 0, 0],\n",
       "       [5, 7, 7, 6, 6],\n",
       "       [6, 9, 4, 1, 8]])"
      ]
     },
     "execution_count": 11,
     "metadata": {},
     "output_type": "execute_result"
    }
   ],
   "source": [
    "# the original matrix got changed with the values\n",
    "\n",
    "rand_mat1"
   ]
  },
  {
   "cell_type": "code",
   "execution_count": 15,
   "metadata": {},
   "outputs": [
    {
     "name": "stdout",
     "output_type": "stream",
     "text": [
      "[[-0.17324995  0.530079   -0.17404229  0.40677747  1.77953375]\n",
      " [ 0.82548137 -1.7425778   0.41255523  0.51700271 -1.78679075]\n",
      " [-1.67329881 -0.4865764   1.58878832 -0.1220412   1.00594529]\n",
      " [-1.00528286  1.92947637  1.60179138 -1.93515705 -0.44855692]\n",
      " [-0.350012    0.56208982 -0.51607576 -0.68591718  0.13415438]]\n",
      "[[3. 3. 3.]\n",
      " [3. 3. 3.]]\n",
      "[[-0.17324995  0.530079   -0.17404229  0.40677747  1.77953375]\n",
      " [ 0.82548137 -1.7425778   0.41255523  0.51700271 -1.78679075]\n",
      " [-1.67329881 -0.4865764   1.58878832 -0.1220412   1.00594529]\n",
      " [-1.00528286  1.92947637  1.60179138 -1.93515705 -0.44855692]\n",
      " [-0.350012    0.56208982 -0.51607576 -0.68591718  0.13415438]]\n"
     ]
    }
   ],
   "source": [
    "# to prevent this change, we need to use the .copy() method\n",
    "\n",
    "rand_mat2 = np.random.randn(5,5)\n",
    "print(rand_mat2)\n",
    "\n",
    "sub_mat2 = rand_mat2[0:2, 0:3].copy()\n",
    "sub_mat2[:] = 3\n",
    "print(sub_mat2)\n",
    "print(rand_mat2)"
   ]
  },
  {
   "cell_type": "code",
   "execution_count": 14,
   "metadata": {},
   "outputs": [
    {
     "name": "stdout",
     "output_type": "stream",
     "text": [
      "[[2 4 3 7 3]\n",
      " [4 8 4 1 3]\n",
      " [3 2 1 4 8]\n",
      " [6 5 2 8 5]\n",
      " [4 1 7 5 7]]\n",
      "[[3 3 3]\n",
      " [3 3 3]]\n",
      "[[2 4 3 7 3]\n",
      " [4 8 4 1 3]\n",
      " [3 2 1 4 8]\n",
      " [6 5 2 8 5]\n",
      " [4 1 7 5 7]]\n"
     ]
    }
   ],
   "source": [
    "rand_mat2 = np.random.randint(1,10, [5,5])\n",
    "print(rand_mat2)\n",
    "\n",
    "sub_mat2 = rand_mat2[0:2, 0:3].copy()\n",
    "sub_mat2[:] = 3\n",
    "print(sub_mat2)\n",
    "print(rand_mat2)"
   ]
  },
  {
   "cell_type": "code",
   "execution_count": null,
   "metadata": {},
   "outputs": [],
   "source": []
  }
 ],
 "metadata": {
  "kernelspec": {
   "display_name": "base",
   "language": "python",
   "name": "python3"
  },
  "language_info": {
   "codemirror_mode": {
    "name": "ipython",
    "version": 3
   },
   "file_extension": ".py",
   "mimetype": "text/x-python",
   "name": "python",
   "nbconvert_exporter": "python",
   "pygments_lexer": "ipython3",
   "version": "3.12.0"
  }
 },
 "nbformat": 4,
 "nbformat_minor": 2
}
