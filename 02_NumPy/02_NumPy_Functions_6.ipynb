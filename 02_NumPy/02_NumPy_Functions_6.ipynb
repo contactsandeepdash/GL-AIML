{
 "cells": [
  {
   "cell_type": "code",
   "execution_count": 2,
   "metadata": {},
   "outputs": [],
   "source": [
    "import numpy as np"
   ]
  },
  {
   "cell_type": "code",
   "execution_count": 3,
   "metadata": {},
   "outputs": [
    {
     "name": "stdout",
     "output_type": "stream",
     "text": [
      "[[9 2 9 6 9]\n",
      " [6 5 3 6 5]]\n",
      "\n",
      "[[16 13 19 11 19]\n",
      " [19 12 16 16 12]]\n"
     ]
    }
   ],
   "source": [
    "# create random matrices\n",
    "\n",
    "randint_matrix1 = np.random.randint(1,10,10).reshape(2,5)\n",
    "print(randint_matrix1)\n",
    "\n",
    "print('')\n",
    "\n",
    "randint_matrix2 = np.random.randint(10,20,10).reshape(2,5)\n",
    "print(randint_matrix2)\n"
   ]
  },
  {
   "cell_type": "code",
   "execution_count": 7,
   "metadata": {},
   "outputs": [],
   "source": [
    "# use np.save() function\n",
    "\n",
    "np.save('/Users/sandeepdash/Sandeep/Practice/python_practice/GreatLearning_AIML/GL-AIML/02_NumPy_Pandas/saved_file', randint_matrix1)"
   ]
  },
  {
   "cell_type": "code",
   "execution_count": 8,
   "metadata": {},
   "outputs": [],
   "source": [
    "# use np.savez\n",
    "\n",
    "np.savez('/Users/sandeepdash/Sandeep/Practice/python_practice/GreatLearning_AIML/GL-AIML/02_NumPy_Pandas/multiple_file', randint_matrix1 = randint_matrix1, randint_matrix2 = randint_matrix2)"
   ]
  },
  {
   "cell_type": "code",
   "execution_count": 9,
   "metadata": {},
   "outputs": [
    {
     "name": "stdout",
     "output_type": "stream",
     "text": [
      "[[9 2 9 6 9]\n",
      " [6 5 3 6 5]]\n",
      "\n",
      "NpzFile '/Users/sandeepdash/Sandeep/Practice/python_practice/GreatLearning_AIML/GL-AIML/02_NumPy_Pandas/multiple_file.npz' with keys: randint_matrix1, randint_matrix2\n"
     ]
    }
   ],
   "source": [
    "# load .npy file\n",
    "\n",
    "loaded_arr = np.load('/Users/sandeepdash/Sandeep/Practice/python_practice/GreatLearning_AIML/GL-AIML/02_NumPy_Pandas/saved_file.npy')\n",
    "loaded_multi = np.load('/Users/sandeepdash/Sandeep/Practice/python_practice/GreatLearning_AIML/GL-AIML/02_NumPy_Pandas/multiple_file.npz')\n",
    "\n",
    "print(loaded_arr)\n",
    "print('')\n",
    "print(loaded_multi)\n"
   ]
  },
  {
   "cell_type": "code",
   "execution_count": 10,
   "metadata": {},
   "outputs": [
    {
     "name": "stdout",
     "output_type": "stream",
     "text": [
      "1st matrix: \n",
      " [[9 2 9 6 9]\n",
      " [6 5 3 6 5]]\n",
      "2nd matrix: \n",
      " [[16 13 19 11 19]\n",
      " [19 12 16 16 12]]\n",
      "new matrix: \n",
      " [[9 2 9 6 9]\n",
      " [6 5 3 6 5]]\n"
     ]
    }
   ],
   "source": [
    "print('1st matrix: \\n', loaded_multi['randint_matrix1'])\n",
    "print('2nd matrix: \\n', loaded_multi['randint_matrix2'])\n",
    "\n",
    "new_matrix = loaded_multi['randint_matrix1']\n",
    "print('new matrix: \\n', new_matrix)"
   ]
  },
  {
   "cell_type": "code",
   "execution_count": 11,
   "metadata": {},
   "outputs": [
    {
     "name": "stdout",
     "output_type": "stream",
     "text": [
      "[[9 2 9 6 9]\n",
      " [6 5 3 6 5]]\n",
      "\n",
      "[[9. 2. 9. 6. 9.]\n",
      " [6. 5. 3. 6. 5.]]\n"
     ]
    }
   ],
   "source": [
    "# we can also save/load text files... but only single variables\n",
    "\n",
    "np.savetxt('/Users/sandeepdash/Sandeep/Practice/python_practice/GreatLearning_AIML/GL-AIML/02_NumPy_Pandas/text_file_name.txt', randint_matrix1, delimiter=\",\")\n",
    "rand_mat_txt = np.loadtxt('/Users/sandeepdash/Sandeep/Practice/python_practice/GreatLearning_AIML/GL-AIML/02_NumPy_Pandas/text_file_name.txt', delimiter=\",\")\n",
    "\n",
    "print(randint_matrix1)\n",
    "print('')\n",
    "print(rand_mat_txt)"
   ]
  },
  {
   "cell_type": "code",
   "execution_count": null,
   "metadata": {},
   "outputs": [],
   "source": []
  }
 ],
 "metadata": {
  "kernelspec": {
   "display_name": "base",
   "language": "python",
   "name": "python3"
  },
  "language_info": {
   "codemirror_mode": {
    "name": "ipython",
    "version": 3
   },
   "file_extension": ".py",
   "mimetype": "text/x-python",
   "name": "python",
   "nbconvert_exporter": "python",
   "pygments_lexer": "ipython3",
   "version": "3.12.0"
  }
 },
 "nbformat": 4,
 "nbformat_minor": 2
}
